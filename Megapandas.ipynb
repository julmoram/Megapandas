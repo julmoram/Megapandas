{
  "nbformat": 4,
  "nbformat_minor": 0,
  "metadata": {
    "colab": {
      "provenance": [],
      "authorship_tag": "ABX9TyNQAvUK1GIf7GAxcAtYhMcJ",
      "include_colab_link": true
    },
    "kernelspec": {
      "name": "python3",
      "display_name": "Python 3"
    },
    "language_info": {
      "name": "python"
    }
  },
  "cells": [
    {
      "cell_type": "markdown",
      "metadata": {
        "id": "view-in-github",
        "colab_type": "text"
      },
      "source": [
        "<a href=\"https://colab.research.google.com/github/julmoram/Megapandas/blob/main/Megapandas.ipynb\" target=\"_parent\"><img src=\"https://colab.research.google.com/assets/colab-badge.svg\" alt=\"Open In Colab\"/></a>"
      ]
    },
    {
      "cell_type": "markdown",
      "source": [
        "#Instalación de pandas"
      ],
      "metadata": {
        "id": "LxfztTiWLwno"
      }
    },
    {
      "cell_type": "code",
      "execution_count": null,
      "metadata": {
        "colab": {
          "base_uri": "https://localhost:8080/"
        },
        "id": "fo54IraZLdyx",
        "outputId": "21380a63-bb6a-49e9-d620-7eeac5712b97"
      },
      "outputs": [
        {
          "output_type": "stream",
          "name": "stdout",
          "text": [
            "Requirement already satisfied: pandas in /usr/local/lib/python3.12/dist-packages (2.2.2)\n",
            "Requirement already satisfied: matplotlib in /usr/local/lib/python3.12/dist-packages (3.10.0)\n",
            "Requirement already satisfied: numpy>=1.26.0 in /usr/local/lib/python3.12/dist-packages (from pandas) (2.0.2)\n",
            "Requirement already satisfied: python-dateutil>=2.8.2 in /usr/local/lib/python3.12/dist-packages (from pandas) (2.9.0.post0)\n",
            "Requirement already satisfied: pytz>=2020.1 in /usr/local/lib/python3.12/dist-packages (from pandas) (2025.2)\n",
            "Requirement already satisfied: tzdata>=2022.7 in /usr/local/lib/python3.12/dist-packages (from pandas) (2025.2)\n",
            "Requirement already satisfied: contourpy>=1.0.1 in /usr/local/lib/python3.12/dist-packages (from matplotlib) (1.3.3)\n",
            "Requirement already satisfied: cycler>=0.10 in /usr/local/lib/python3.12/dist-packages (from matplotlib) (0.12.1)\n",
            "Requirement already satisfied: fonttools>=4.22.0 in /usr/local/lib/python3.12/dist-packages (from matplotlib) (4.60.1)\n",
            "Requirement already satisfied: kiwisolver>=1.3.1 in /usr/local/lib/python3.12/dist-packages (from matplotlib) (1.4.9)\n",
            "Requirement already satisfied: packaging>=20.0 in /usr/local/lib/python3.12/dist-packages (from matplotlib) (25.0)\n",
            "Requirement already satisfied: pillow>=8 in /usr/local/lib/python3.12/dist-packages (from matplotlib) (11.3.0)\n",
            "Requirement already satisfied: pyparsing>=2.3.1 in /usr/local/lib/python3.12/dist-packages (from matplotlib) (3.2.5)\n",
            "Requirement already satisfied: six>=1.5 in /usr/local/lib/python3.12/dist-packages (from python-dateutil>=2.8.2->pandas) (1.17.0)\n"
          ]
        }
      ],
      "source": [
        "!pip install pandas matplotlib"
      ]
    },
    {
      "cell_type": "markdown",
      "source": [
        "#Importar la libreria"
      ],
      "metadata": {
        "id": "5shPwABqL7eN"
      }
    },
    {
      "cell_type": "code",
      "source": [
        "import pandas as pd\n",
        "import numpy as np\n",
        "import matplotlib.pyplot as plt"
      ],
      "metadata": {
        "id": "95caWhtAMCFO"
      },
      "execution_count": null,
      "outputs": []
    },
    {
      "cell_type": "markdown",
      "source": [
        "##Arreglo unidimensional con índices"
      ],
      "metadata": {
        "id": "thv6mcD9MD_w"
      }
    },
    {
      "cell_type": "code",
      "source": [
        "serie = pd.Series([10, 20, 30, 40], index=[\"a\", \"b\", \"c\", \"d\"])\n",
        "print(\"Serie:\\n\", serie)\n"
      ],
      "metadata": {
        "colab": {
          "base_uri": "https://localhost:8080/"
        },
        "id": "Uqov3ZtGMLU9",
        "outputId": "8721c21b-d1fe-4a39-b574-9758334105f6"
      },
      "execution_count": null,
      "outputs": [
        {
          "output_type": "stream",
          "name": "stdout",
          "text": [
            "Serie:\n",
            " a    10\n",
            "b    20\n",
            "c    30\n",
            "d    40\n",
            "dtype: int64\n"
          ]
        }
      ]
    },
    {
      "cell_type": "markdown",
      "source": [
        "##Accceso por índice por etiquetas"
      ],
      "metadata": {
        "id": "wxJRpQVeMO3m"
      }
    },
    {
      "cell_type": "code",
      "source": [
        "print(\"\\nElemento en índice 1:\", serie[1])\n",
        "print(\"Elemento con etiqueta 'c':\", serie[\"c\"])"
      ],
      "metadata": {
        "colab": {
          "base_uri": "https://localhost:8080/"
        },
        "id": "KkFkRkyoMXP7",
        "outputId": "3fd81962-08ba-4c72-cc6e-9b459d6b55b1"
      },
      "execution_count": null,
      "outputs": [
        {
          "output_type": "stream",
          "name": "stdout",
          "text": [
            "\n",
            "Elemento en índice 1: 20\n",
            "Elemento con etiqueta 'c': 30\n"
          ]
        },
        {
          "output_type": "stream",
          "name": "stderr",
          "text": [
            "/tmp/ipython-input-140262926.py:1: FutureWarning: Series.__getitem__ treating keys as positions is deprecated. In a future version, integer keys will always be treated as labels (consistent with DataFrame behavior). To access a value by position, use `ser.iloc[pos]`\n",
            "  print(\"\\nElemento en índice 1:\", serie[1])\n"
          ]
        }
      ]
    },
    {
      "cell_type": "markdown",
      "source": [
        "# Operaciones aritméticas con Series"
      ],
      "metadata": {
        "id": "6Y1lvgwRMbqS"
      }
    },
    {
      "cell_type": "code",
      "source": [
        "print(\"\\nSerie + 5:\\n\", serie + 5)\n",
        "print(\"Serie * 2:\\n\", serie * 2)"
      ],
      "metadata": {
        "colab": {
          "base_uri": "https://localhost:8080/"
        },
        "id": "-DEIj-a4MdKP",
        "outputId": "73892baa-b38b-452e-cb13-69b83504e901"
      },
      "execution_count": null,
      "outputs": [
        {
          "output_type": "stream",
          "name": "stdout",
          "text": [
            "\n",
            "Serie + 5:\n",
            " a    15\n",
            "b    25\n",
            "c    35\n",
            "d    45\n",
            "dtype: int64\n",
            "Serie * 2:\n",
            " a    20\n",
            "b    40\n",
            "c    60\n",
            "d    80\n",
            "dtype: int64\n"
          ]
        }
      ]
    },
    {
      "cell_type": "markdown",
      "source": [
        "# Representación gráfica"
      ],
      "metadata": {
        "id": "WmPRr3UnMgl8"
      }
    },
    {
      "cell_type": "code",
      "source": [
        "serie.plot(kind=\"bar\", title=\"Gráfico de Series\")\n",
        "plt.show()"
      ],
      "metadata": {
        "colab": {
          "base_uri": "https://localhost:8080/",
          "height": 447
        },
        "id": "UAgSZ2NmMgTN",
        "outputId": "2aa1ccd5-48a6-405a-cd50-37d40eb22e40"
      },
      "execution_count": null,
      "outputs": [
        {
          "output_type": "display_data",
          "data": {
            "text/plain": [
              "<Figure size 640x480 with 1 Axes>"
            ],
            "image/png": "[encoded data removed]"
          },
          "metadata": {}
        }
      ]
    },
    {
      "cell_type": "markdown",
      "source": [
        "# 📗 Creación de un DataFrame\n"
      ],
      "metadata": {
        "id": "nxffW6gQMq1J"
      }
    },
    {
      "cell_type": "code",
      "source": [
        "datos = {\n",
        "    \"Nombre\": [\"Ana\", \"Luis\", \"María\", \"Carlos\"],\n",
        "    \"Edad\": [23, 35, 29, 42],\n",
        "    \"Ciudad\": [\"CDMX\", \"Monterrey\", \"Guadalajara\", \"Puebla\"],\n",
        "    \"Puntaje\": [85, 90, 78, 88]\n",
        "}\n",
        "\n",
        "df = pd.DataFrame(datos, columns=[\"Nombre\", \"Edad\", \"Ciudad\", \"Puntaje\"])\n",
        "print(\"\\nDataFrame original:\\n\", df)"
      ],
      "metadata": {
        "colab": {
          "base_uri": "https://localhost:8080/"
        },
        "id": "x-m_xM6XMqmW",
        "outputId": "cf0a9264-4666-4495-ccbe-7e701f57a5f8"
      },
      "execution_count": null,
      "outputs": [
        {
          "output_type": "stream",
          "name": "stdout",
          "text": [
            "\n",
            "DataFrame original:\n",
            "    Nombre  Edad       Ciudad  Puntaje\n",
            "0     Ana    23         CDMX       85\n",
            "1    Luis    35    Monterrey       90\n",
            "2   María    29  Guadalajara       78\n",
            "3  Carlos    42       Puebla       88\n"
          ]
        }
      ]
    },
    {
      "cell_type": "markdown",
      "source": [
        "# Acceso a columnas"
      ],
      "metadata": {
        "id": "hHk0TqlGMzEJ"
      }
    },
    {
      "cell_type": "code",
      "source": [
        "print(\"\\nColumna Edad:\\n\", df[\"Edad\"])"
      ],
      "metadata": {
        "colab": {
          "base_uri": "https://localhost:8080/"
        },
        "id": "N-HBuHUiM4TB",
        "outputId": "e3a3f876-c4c6-420f-d58b-ff05703e8e6d"
      },
      "execution_count": null,
      "outputs": [
        {
          "output_type": "stream",
          "name": "stdout",
          "text": [
            "\n",
            "Columna Edad:\n",
            " 0    23\n",
            "1    35\n",
            "2    29\n",
            "3    42\n",
            "Name: Edad, dtype: int64\n"
          ]
        }
      ]
    },
    {
      "cell_type": "markdown",
      "source": [
        "# Acceso a filas"
      ],
      "metadata": {
        "id": "nNGsA30yM9-s"
      }
    },
    {
      "cell_type": "code",
      "source": [
        "print(\"\\nPrimera fila:\\n\", df.iloc[0])\n",
        "print(\"Fila con etiqueta 2:\\n\", df.loc[2])\n"
      ],
      "metadata": {
        "colab": {
          "base_uri": "https://localhost:8080/"
        },
        "id": "iPOXMwINM-_o",
        "outputId": "ce419841-ec22-4244-c437-d16edd893427"
      },
      "execution_count": null,
      "outputs": [
        {
          "output_type": "stream",
          "name": "stdout",
          "text": [
            "\n",
            "Primera fila:\n",
            " Nombre      Ana\n",
            "Edad         23\n",
            "Ciudad     CDMX\n",
            "Puntaje      85\n",
            "Name: 0, dtype: object\n",
            "Fila con etiqueta 2:\n",
            " Nombre           María\n",
            "Edad                29\n",
            "Ciudad     Guadalajara\n",
            "Puntaje             78\n",
            "Name: 2, dtype: object\n"
          ]
        }
      ]
    },
    {
      "cell_type": "markdown",
      "source": [
        "#🔍 Consultas y filtros"
      ],
      "metadata": {
        "id": "nl6xPP45NBx0"
      }
    },
    {
      "cell_type": "code",
      "source": [
        "print(\"\\nFiltrar filas con Edad > 30:\\n\", df[df[\"Edad\"] > 30])\n",
        "print(\"\\nSeleccionar columnas específicas:\\n\", df[[\"Nombre\", \"Puntaje\"]])"
      ],
      "metadata": {
        "colab": {
          "base_uri": "https://localhost:8080/"
        },
        "id": "sEqv_oJQNEHJ",
        "outputId": "b914f697-fcdd-4734-c2c5-33ff9ad729bf"
      },
      "execution_count": null,
      "outputs": [
        {
          "output_type": "stream",
          "name": "stdout",
          "text": [
            "\n",
            "Filtrar filas con Edad > 30:\n",
            "    Nombre  Edad     Ciudad  Puntaje\n",
            "1    Luis    35  Monterrey       90\n",
            "3  Carlos    42     Puebla       88\n",
            "\n",
            "Seleccionar columnas específicas:\n",
            "    Nombre  Puntaje\n",
            "0     Ana       85\n",
            "1    Luis       90\n",
            "2   María       78\n",
            "3  Carlos       88\n"
          ]
        }
      ]
    },
    {
      "cell_type": "markdown",
      "source": [
        "# Consulta avanzada"
      ],
      "metadata": {
        "id": "TnUsYjUGNDzE"
      }
    },
    {
      "cell_type": "code",
      "source": [
        "print(\"\\nPersonas de Guadalajara con Puntaje > 80:\\n\",\n",
        "      df[(df[\"Ciudad\"] == \"Guadalajara\") & (df[\"Puntaje\"] > 80)])"
      ],
      "metadata": {
        "colab": {
          "base_uri": "https://localhost:8080/"
        },
        "id": "FzOQ20L8NM-r",
        "outputId": "a7e1e3e5-63c8-480d-cdf3-aab0b2ce5897"
      },
      "execution_count": null,
      "outputs": [
        {
          "output_type": "stream",
          "name": "stdout",
          "text": [
            "\n",
            "Personas de Guadalajara con Puntaje > 80:\n",
            " Empty DataFrame\n",
            "Columns: [Nombre, Edad, Ciudad, Puntaje]\n",
            "Index: []\n"
          ]
        }
      ]
    },
    {
      "cell_type": "markdown",
      "source": [
        "# ✏️ Copiar y modificar DataFrames"
      ],
      "metadata": {
        "id": "pT0l3iyrNRMr"
      }
    },
    {
      "cell_type": "code",
      "source": [
        "df_copia = df.copy()\n",
        "df_copia[\"Puntaje\"] = df_copia[\"Puntaje\"] + 5\n",
        "print(\"\\nDataFrame modificado:\\n\", df_copia)"
      ],
      "metadata": {
        "colab": {
          "base_uri": "https://localhost:8080/"
        },
        "id": "KKwUnrHqNRqS",
        "outputId": "4cf095b5-003c-4459-eb06-54424c560a94"
      },
      "execution_count": null,
      "outputs": [
        {
          "output_type": "stream",
          "name": "stdout",
          "text": [
            "\n",
            "DataFrame modificado:\n",
            "    Nombre  Edad       Ciudad  Puntaje\n",
            "0     Ana    23         CDMX       90\n",
            "1    Luis    35    Monterrey       95\n",
            "2   María    29  Guadalajara       83\n",
            "3  Carlos    42       Puebla       93\n"
          ]
        }
      ]
    },
    {
      "cell_type": "markdown",
      "source": [
        "# ➕ Agregar nueva columna"
      ],
      "metadata": {
        "id": "daq8mlfbNV5U"
      }
    },
    {
      "cell_type": "code",
      "source": [
        "df[\"Aprobado\"] = df[\"Puntaje\"] >= 80\n",
        "print(\"\\nDataFrame con nueva columna:\\n\", df)"
      ],
      "metadata": {
        "colab": {
          "base_uri": "https://localhost:8080/"
        },
        "id": "W7ke5jbHNWGb",
        "outputId": "a19b2e29-3bfa-4235-e770-6f838463db69"
      },
      "execution_count": null,
      "outputs": [
        {
          "output_type": "stream",
          "name": "stdout",
          "text": [
            "\n",
            "DataFrame con nueva columna:\n",
            "    Nombre  Edad       Ciudad  Puntaje  Aprobado\n",
            "0     Ana    23         CDMX       85      True\n",
            "1    Luis    35    Monterrey       90      True\n",
            "2   María    29  Guadalajara       78     False\n",
            "3  Carlos    42       Puebla       88      True\n"
          ]
        }
      ]
    },
    {
      "cell_type": "markdown",
      "source": [
        "# Modificación con condiciones"
      ],
      "metadata": {
        "id": "8yvx0D-nNeEF"
      }
    },
    {
      "cell_type": "code",
      "source": [
        "df.loc[df[\"Edad\"] > 30, \"Categoria\"] = \"Adulto\"\n",
        "df.loc[df[\"Edad\"] <= 30, \"Categoria\"] = \"Joven\"\n",
        "print(\"\\nDataFrame con columna categórica:\\n\", df)"
      ],
      "metadata": {
        "colab": {
          "base_uri": "https://localhost:8080/"
        },
        "id": "7-lb_pLcNfHl",
        "outputId": "9625d629-0192-454b-c281-69c420202cd8"
      },
      "execution_count": null,
      "outputs": [
        {
          "output_type": "stream",
          "name": "stdout",
          "text": [
            "\n",
            "DataFrame con columna categórica:\n",
            "    Nombre  Edad       Ciudad  Puntaje  Aprobado Categoria\n",
            "0     Ana    23         CDMX       85      True     Joven\n",
            "1    Luis    35    Monterrey       90      True    Adulto\n",
            "2   María    29  Guadalajara       78     False     Joven\n",
            "3  Carlos    42       Puebla       88      True    Adulto\n"
          ]
        }
      ]
    },
    {
      "cell_type": "markdown",
      "source": [
        "# 🧮 Evaluación de expresiones"
      ],
      "metadata": {
        "id": "H3KAMd6GNjUC"
      }
    },
    {
      "cell_type": "code",
      "source": [
        "df[\"Promedio\"] = (df[\"Puntaje\"] + df[\"Edad\"]) / 2\n",
        "print(\"\\nDataFrame con columna Promedio:\\n\", df)"
      ],
      "metadata": {
        "colab": {
          "base_uri": "https://localhost:8080/"
        },
        "id": "WoDPMzGKNkJ4",
        "outputId": "97f7e415-b4c0-4157-d87a-281f4c9adf8c"
      },
      "execution_count": null,
      "outputs": [
        {
          "output_type": "stream",
          "name": "stdout",
          "text": [
            "\n",
            "DataFrame con columna Promedio:\n",
            "    Nombre  Edad       Ciudad  Puntaje  Aprobado Categoria  Promedio\n",
            "0     Ana    23         CDMX       85      True     Joven      54.0\n",
            "1    Luis    35    Monterrey       90      True    Adulto      62.5\n",
            "2   María    29  Guadalajara       78     False     Joven      53.5\n",
            "3  Carlos    42       Puebla       88      True    Adulto      65.0\n"
          ]
        }
      ]
    },
    {
      "cell_type": "markdown",
      "source": [
        "# 💾 Guardar y cargar DataFrame\n"
      ],
      "metadata": {
        "id": "LGZ1K1d9Nn03"
      }
    },
    {
      "cell_type": "code",
      "source": [
        "df.to_csv(\"datos.csv\", index=False)\n",
        "print(\"\\nArchivo guardado como datos.csv\")\n",
        "\n",
        "df_leido = pd.read_csv(\"datos.csv\")\n",
        "print(\"\\nDataFrame leído desde archivo:\\n\", df_leido)"
      ],
      "metadata": {
        "colab": {
          "base_uri": "https://localhost:8080/"
        },
        "id": "k5gZpYd4N-Yl",
        "outputId": "e1092b79-7c6a-4f79-e3c7-235471277be9"
      },
      "execution_count": null,
      "outputs": [
        {
          "output_type": "stream",
          "name": "stdout",
          "text": [
            "\n",
            "Archivo guardado como datos.csv\n",
            "\n",
            "DataFrame leído desde archivo:\n",
            "    Nombre  Edad       Ciudad  Puntaje  Aprobado Categoria  Promedio\n",
            "0     Ana    23         CDMX       85      True     Joven      54.0\n",
            "1    Luis    35    Monterrey       90      True    Adulto      62.5\n",
            "2   María    29  Guadalajara       78     False     Joven      53.5\n",
            "3  Carlos    42       Puebla       88      True    Adulto      65.0\n"
          ]
        }
      ]
    },
    {
      "cell_type": "markdown",
      "source": [
        "# 📊 Representación gráfica"
      ],
      "metadata": {
        "id": "n7mTd0ZCOCyb"
      }
    },
    {
      "cell_type": "code",
      "source": [
        "df.plot(x=\"Nombre\", y=\"Puntaje\", kind=\"bar\", title=\"Puntaje por persona\")\n",
        "plt.xlabel(\"Nombre\")\n",
        "plt.ylabel(\"Puntaje\")\n",
        "plt.show()"
      ],
      "metadata": {
        "colab": {
          "base_uri": "https://localhost:8080/",
          "height": 501
        },
        "id": "Uoseo_4IOFz_",
        "outputId": "8fe25b66-0ab8-4d09-a1d8-5b966bb22551"
      },
      "execution_count": null,
      "outputs": [
        {
          "output_type": "display_data",
          "data": {
            "text/plain": [
              "<Figure size 640x480 with 1 Axes>"
            ],
            "image/png": "[encoded data removed]"
          },
          "metadata": {}
        }
      ]
    }
  ]
}